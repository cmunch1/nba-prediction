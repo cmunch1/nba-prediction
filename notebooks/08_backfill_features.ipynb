{
 "cells": [
  {
   "attachments": {},
   "cell_type": "markdown",
   "id": "19fd99d9",
   "metadata": {},
   "source": [
    "### Backfill Features\n",
    "\n",
    "*Note: To make sure how local data is up to date before backfilling, run notebook 00 first.*\n",
    "\n",
    "This notebook handles the initial processing and feature engineering of all the locally stored basic games data prior to loading the data into the Feature Store.\n",
    "\n",
    "Generally this notebook is run just once to initially load all the historical data into the Feature Store at Hopsworks.ai. It creates\n",
    "the FeatureGroup that will be used to store the features. If you need to re-run this notebook, you will need to delete the FeatureGroup in Hopsworks.ai first.\n",
    "\n",
    "Notebook 9 will handle daily updates of the data. This notebook is only for the initial backfill of historical data.\n",
    "\n",
    "It also save all the feature names to a JSON file (feature_names.json) because Hopsworks.ai converts the feature names to all lower-case, and for best compatibility with the rest of the code, we will want to convert these feature names back to original mixed-case.\n",
    "\n"
   ]
  },
  {
   "cell_type": "code",
   "execution_count": null,
   "id": "548fdd0a-cd73-40ff-9154-6ca6a3233947",
   "metadata": {},
   "outputs": [],
   "source": [
    "import os\n",
    "\n",
    "import pandas as pd\n",
    "import numpy as np\n",
    "\n",
    "pd.set_option('display.max_columns', 500)\n",
    "\n",
    "import hopsworks\n",
    "\n",
    "# change working directory to project root when running from notebooks folder to make it easier to import modules\n",
    "# and to access sibling folders\n",
    "os.chdir('..') \n",
    "\n",
    "from src.data_processing import (\n",
    "    process_games,\n",
    "    add_TARGET,\n",
    ")\n",
    "\n",
    "from src.feature_engineering import (\n",
    "    process_features,\n",
    ")\n",
    "\n",
    "from src.hopsworks_utils import (\n",
    "    save_feature_names,\n",
    ")\n",
    "\n",
    "from src.constants import (\n",
    "    FEATURE_GROUP_VERSION,\n",
    ")\n",
    "\n",
    "from pathlib import Path  #for Windows/Linux compatibility\n",
    "DATAPATH = Path(r'data')\n",
    "\n"
   ]
  },
  {
   "cell_type": "code",
   "execution_count": null,
   "id": "f5ae7431-32cc-4231-a586-6de7d271dab4",
   "metadata": {},
   "outputs": [],
   "source": [
    "from dotenv import load_dotenv\n",
    "\n",
    "load_dotenv()\n",
    "\n",
    "\n",
    "try:\n",
    "    HOPSWORKS_API_KEY = os.environ['HOPSWORKS_API_KEY']\n",
    "except:\n",
    "    raise Exception('Set environment variable HOPSWORKS_API_KEY')"
   ]
  },
  {
   "cell_type": "markdown",
   "id": "e6e2fa64-2b05-4a16-afd4-ffde457317d3",
   "metadata": {},
   "source": [
    "### Get Data"
   ]
  },
  {
   "cell_type": "code",
   "execution_count": null,
   "id": "b8d21056-c888-4435-a5be-1e024c91ec18",
   "metadata": {},
   "outputs": [],
   "source": [
    "games = pd.read_csv(DATAPATH / \"games.csv\")"
   ]
  },
  {
   "cell_type": "markdown",
   "id": "20f21020-f3bf-49b8-ab33-be63b470fbf8",
   "metadata": {},
   "source": [
    "### Data Processing"
   ]
  },
  {
   "cell_type": "code",
   "execution_count": null,
   "id": "ebd6432f-d540-40cf-877a-944584b8ff55",
   "metadata": {},
   "outputs": [],
   "source": [
    "games = process_games(games) \n",
    "games = add_TARGET(games)"
   ]
  },
  {
   "cell_type": "markdown",
   "id": "e48eeee6-f3b9-46c3-b425-5a198a76b95a",
   "metadata": {},
   "source": [
    "### Feature Engineering"
   ]
  },
  {
   "cell_type": "code",
   "execution_count": null,
   "id": "2720f06c-e829-4d8c-8365-00aafdb43e62",
   "metadata": {},
   "outputs": [],
   "source": [
    "# Feature engineering to add: \n",
    "    # rolling averages of key stats, \n",
    "    # win/lose streaks, \n",
    "    # home/away streaks, \n",
    "    # specific matchup (team X vs team Y) rolling averages and streaks\n",
    "\n",
    "games = process_features(games)\n",
    "games"
   ]
  },
  {
   "cell_type": "markdown",
   "id": "3a088979-09aa-4d02-bc4f-df2d77e7d45c",
   "metadata": {},
   "source": [
    "### Backfill Feature Store"
   ]
  },
  {
   "cell_type": "code",
   "execution_count": null,
   "id": "ba69a88c-691e-4f8d-b68e-e79f5582a939",
   "metadata": {},
   "outputs": [],
   "source": [
    "project = hopsworks.login(api_key_value=HOPSWORKS_API_KEY)\n",
    "fs = project.get_feature_store()"
   ]
  },
  {
   "cell_type": "markdown",
   "id": "548a2746-67d0-4917-bb68-1514b481bc25",
   "metadata": {},
   "source": [
    "**Rolling Stats Features**"
   ]
  },
  {
   "cell_type": "code",
   "execution_count": null,
   "id": "40331ef1-e0ff-406e-862d-4deedbdc6bd0",
   "metadata": {},
   "outputs": [],
   "source": [
    "rolling_stats_fg = fs.create_feature_group(\n",
    "    name=\"rolling_stats\",\n",
    "    version=FEATURE_GROUP_VERSION,\n",
    "    description=\"Rolling averages and current win/lose streaks\",\n",
    "    #primary_key=[\"GAME_ID\"],\n",
    "    primary_key = ['GAME_DATE_EST','HOME_TEAM_ID'],\n",
    "    event_time=\"game_date_est\", #must be lowercase\n",
    ")\n",
    "\n",
    "rolling_stats_fg.insert(games, write_options={\"wait_for_job\" : False})"
   ]
  },
  {
   "cell_type": "markdown",
   "id": "e133ea7e",
   "metadata": {},
   "source": [
    "**Save original feature names to JSON**"
   ]
  },
  {
   "cell_type": "code",
   "execution_count": null,
   "id": "d10ebbad-19a6-475f-a622-289d19f2f4b7",
   "metadata": {},
   "outputs": [],
   "source": [
    "# hopsworks \"sanitizes\" feature names by converting to all lowercase\n",
    "# this function saves the original so that they can be re-mapped later\n",
    "# for code re-usability\n",
    "\n",
    "save_feature_names(games)\n"
   ]
  }
 ],
 "metadata": {
  "kernelspec": {
   "display_name": "nba3",
   "language": "python",
   "name": "python3"
  },
  "language_info": {
   "codemirror_mode": {
    "name": "ipython",
    "version": 3
   },
   "file_extension": ".py",
   "mimetype": "text/x-python",
   "name": "python",
   "nbconvert_exporter": "python",
   "pygments_lexer": "ipython3",
   "version": "3.9.13"
  },
  "vscode": {
   "interpreter": {
    "hash": "4655998f62ad965cbd25df51edb717f2326f5df53d53899f0ae604225aa5ae06"
   }
  }
 },
 "nbformat": 4,
 "nbformat_minor": 5
}
